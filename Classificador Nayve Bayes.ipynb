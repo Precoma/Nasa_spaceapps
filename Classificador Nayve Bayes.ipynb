{
  "cells": [
    {
      "cell_type": "code",
      "execution_count": 18,
      "id": "0667a30f",
      "metadata": {
        "id": "0667a30f"
      },
      "outputs": [],
      "source": [
        "import pandas as pd\n",
        "import sklearn\n",
        "import numpy as np"
      ]
    },
    {
      "cell_type": "code",
      "execution_count": 17,
      "id": "89fcd827",
      "metadata": {
        "id": "89fcd827"
      },
      "outputs": [],
      "source": [
        "def pre_processing(csv_patch):\n",
        "  data = pd.read_csv(csv_patch, \\\n",
        "  delimiter = ',', parse_dates=[0], \\\n",
        "  infer_datetime_format=True, na_values='0', \\\n",
        "  header = None)\n",
        "\n",
        "  data = data.rename(columns={0: 'y'})\n",
        "  data['y'] = data['y'].astype(str)\n",
        "\n",
        "  num = 180\n",
        "  k = 0\n",
        "  cont = 0\n",
        "  temp_df = data.head(0)\n",
        "  while len(data) > 0:\n",
        "      aux_df = data.head(num)\n",
        "      temp_df.loc[cont, 'y'] = data.loc[k,'y']\n",
        "\n",
        "      for x in range(1,53):\n",
        "        temp_df.loc[cont, x] = aux_df[x].mean()\n",
        "\n",
        "      data = data.iloc[num:]\n",
        "      cont += 1\n",
        "      k += 180\n",
        "\n",
        "  return temp_df"
      ]
    },
    {
      "cell_type": "code",
      "execution_count": 13,
      "id": "ce13cc09",
      "metadata": {
        "id": "ce13cc09"
      },
      "outputs": [],
      "source": [
        "def concat_date(dft):\n",
        "  dft[['y', 'm', 'd']] = dft[['y', 'm', 'd']].astype(str)\n",
        "  dft['start'] = dft['start'].astype(int).astype(str)\n",
        "  dft['start'] = [('0' + str(x)) if x <10 else str(x) for x in dft['start'].astype(int)]\n",
        "  dft['m'] = [('0' + str(x)) if x <10 else str(x) for x in dft['m'].astype(int)]\n",
        "  dft['d'] = [('0' + str(x)) if x <10 else str(x) for x in dft['d'].astype(int)]\n",
        "  dft[\"y\"]= dft[\"y\"].str.cat(dft['m'], sep =\"-\")\n",
        "  dft[\"y\"]= dft[\"y\"].str.cat(dft['d'], sep =\"-\")\n",
        "  dft[\"y\"]= dft[\"y\"].str.cat(dft['start'], sep =\" \")\n",
        "  dft['aux'] = pd.Series([':00:00' for x in range(len(dft.index))])\n",
        "  dft[\"y\"]= dft[\"y\"].str.cat(dft['aux'], sep =\"\")\n",
        "  dft = dft.drop(['m', 'd'], axis = 1)\n",
        "  dft = dft.drop(['aux', 'mid', 'start'], axis=1)\n",
        "\n",
        "  return dft"
      ]
    },
    {
      "cell_type": "code",
      "source": [
        "data = pre_processing('dsc_fc_summed_spectra_2022_v01.csv')\n",
        "\n",
        "date = pd.read_csv('date.txt', sep=\" \", header=None, names=[\"y\", \"m\", \"d\",'start', 'mid', 'k'])\n",
        "kps = pd.read_csv('justkp.txt', sep=\" \", header=None, names=['kp'])\n",
        "df = date.join(kps['kp'])\n",
        "df = df.drop('k', axis=1)\n",
        "\n",
        "df_date = concat_date(df)\n",
        "final = df_date.merge(data, on='y')"
      ],
      "metadata": {
        "colab": {
          "base_uri": "https://localhost:8080/"
        },
        "id": "1UzT7sSJmDu1",
        "outputId": "1fe8771e-30bb-4b46-a67f-63165fc30e64"
      },
      "id": "1UzT7sSJmDu1",
      "execution_count": 23,
      "outputs": [
        {
          "output_type": "stream",
          "name": "stderr",
          "text": [
            "<ipython-input-17-27bd5e9653e0>:16: SettingWithCopyWarning: \n",
            "A value is trying to be set on a copy of a slice from a DataFrame\n",
            "\n",
            "See the caveats in the documentation: https://pandas.pydata.org/pandas-docs/stable/user_guide/indexing.html#returning-a-view-versus-a-copy\n",
            "  temp_df.loc[cont, 'y'] = data.loc[k,'y']\n"
          ]
        }
      ]
    },
    {
      "cell_type": "code",
      "source": [
        "df = final\n",
        "df['temp'] = [1 if x >= 5 else 0 for x in df['kp']]\n",
        "np_temp = df['temp'].astype(int).to_numpy()\n",
        "df = df.drop(['kp', 'y'], axis=1)\n",
        "df = df.fillna(0)\n",
        "np_values = df.astype(int).to_numpy()"
      ],
      "metadata": {
        "id": "zp8s943FLicu"
      },
      "id": "zp8s943FLicu",
      "execution_count": 25,
      "outputs": []
    },
    {
      "cell_type": "code",
      "source": [
        "from sklearn.preprocessing import MinMaxScaler\n",
        "normalizador = MinMaxScaler()\n",
        "X_norm = normalizador.fit_transform(np_values)"
      ],
      "metadata": {
        "id": "h2NK61aLVvSV"
      },
      "id": "h2NK61aLVvSV",
      "execution_count": 26,
      "outputs": []
    },
    {
      "cell_type": "code",
      "source": [
        "from sklearn.naive_bayes import GaussianNB\n",
        "X = np.array(X_norm)\n",
        "Y = np.array(np_temp)\n",
        "clf = GaussianNB()\n",
        "clf.fit(X, Y)\n",
        "\n",
        "\n",
        "test = X_norm[151]\n",
        "clf.predict([test])"
      ],
      "metadata": {
        "colab": {
          "base_uri": "https://localhost:8080/"
        },
        "id": "p9iSPLOJM6zk",
        "outputId": "41cb65c5-f1da-4ca7-dd06-35e1896724b0"
      },
      "id": "p9iSPLOJM6zk",
      "execution_count": 44,
      "outputs": [
        {
          "output_type": "execute_result",
          "data": {
            "text/plain": [
              "array([0])"
            ]
          },
          "metadata": {},
          "execution_count": 44
        }
      ]
    },
    {
      "cell_type": "code",
      "source": [
        "#final.to_csv(index=False)\n",
        "\n",
        "compression_opts = dict(method='zip',\n",
        "                        archive_name='out.csv')\n",
        "\n",
        "final.to_csv('out_2019.zip', index=False,\n",
        "          compression=compression_opts)"
      ],
      "metadata": {
        "id": "bda1GsRr7XOf"
      },
      "id": "bda1GsRr7XOf",
      "execution_count": 94,
      "outputs": []
    }
  ],
  "metadata": {
    "kernelspec": {
      "display_name": "Python 3 (ipykernel)",
      "language": "python",
      "name": "python3"
    },
    "language_info": {
      "codemirror_mode": {
        "name": "ipython",
        "version": 3
      },
      "file_extension": ".py",
      "mimetype": "text/x-python",
      "name": "python",
      "nbconvert_exporter": "python",
      "pygments_lexer": "ipython3",
      "version": "3.11.5"
    },
    "colab": {
      "provenance": []
    }
  },
  "nbformat": 4,
  "nbformat_minor": 5
}